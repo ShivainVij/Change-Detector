{
 "cells": [
  {
   "cell_type": "code",
   "execution_count": 1,
   "id": "dfbcd3b4",
   "metadata": {},
   "outputs": [
    {
     "name": "stderr",
     "output_type": "stream",
     "text": [
      "c:\\users\\vijsh\\appdata\\local\\programs\\python\\python37\\lib\\site-packages\\torchvision\\io\\image.py:11: UserWarning: Failed to load image Python extension: [WinError 126] The specified module could not be found\n",
      "  warn(f\"Failed to load image Python extension: {e}\")\n"
     ]
    },
    {
     "name": "stdout",
     "output_type": "stream",
     "text": [
      "Epoch [1/100], Loss: 0.0454\n",
      "Epoch [2/100], Loss: 0.0936\n",
      "Epoch [3/100], Loss: 0.0737\n",
      "Epoch [4/100], Loss: 0.0458\n",
      "Epoch [5/100], Loss: 0.0922\n",
      "Epoch [6/100], Loss: 0.0623\n",
      "Epoch [7/100], Loss: 0.0345\n",
      "Epoch [8/100], Loss: 0.1265\n",
      "Epoch [9/100], Loss: 0.0989\n",
      "Epoch [10/100], Loss: 0.1442\n",
      "Epoch [11/100], Loss: 0.0321\n",
      "Epoch [12/100], Loss: 0.0740\n",
      "Epoch [13/100], Loss: 0.0540\n",
      "Epoch [14/100], Loss: 0.1122\n",
      "Epoch [15/100], Loss: 0.0826\n",
      "Epoch [16/100], Loss: 0.0479\n",
      "Epoch [17/100], Loss: 0.0518\n",
      "Epoch [18/100], Loss: 0.0667\n",
      "Epoch [19/100], Loss: 0.0201\n",
      "Epoch [20/100], Loss: 0.0667\n",
      "Epoch [21/100], Loss: 0.0265\n",
      "Epoch [22/100], Loss: 0.0263\n",
      "Epoch [23/100], Loss: 0.0674\n",
      "Epoch [24/100], Loss: 0.0560\n",
      "Epoch [25/100], Loss: 0.0601\n",
      "Epoch [26/100], Loss: 0.0745\n",
      "Epoch [27/100], Loss: 0.1131\n",
      "Epoch [28/100], Loss: 0.0365\n",
      "Epoch [29/100], Loss: 0.0112\n",
      "Epoch [30/100], Loss: 0.0493\n",
      "Epoch [31/100], Loss: 0.0448\n",
      "Epoch [32/100], Loss: 0.1025\n",
      "Epoch [33/100], Loss: 0.1124\n",
      "Epoch [34/100], Loss: 0.0595\n",
      "Epoch [35/100], Loss: 0.0971\n",
      "Epoch [36/100], Loss: 0.1478\n",
      "Epoch [37/100], Loss: 0.0519\n",
      "Epoch [38/100], Loss: 0.0583\n",
      "Epoch [39/100], Loss: 0.0322\n",
      "Epoch [40/100], Loss: 0.1014\n",
      "Epoch [41/100], Loss: 0.1016\n",
      "Epoch [42/100], Loss: 0.0529\n",
      "Epoch [43/100], Loss: 0.0710\n",
      "Epoch [44/100], Loss: 0.0518\n",
      "Epoch [45/100], Loss: 0.0246\n",
      "Epoch [46/100], Loss: 0.1444\n",
      "Epoch [47/100], Loss: 0.0452\n",
      "Epoch [48/100], Loss: 0.0770\n",
      "Epoch [49/100], Loss: 0.0332\n",
      "Epoch [50/100], Loss: 0.0664\n",
      "Epoch [51/100], Loss: 0.0129\n",
      "Epoch [52/100], Loss: 0.0465\n",
      "Epoch [53/100], Loss: 0.0727\n",
      "Epoch [54/100], Loss: 0.1393\n",
      "Epoch [55/100], Loss: 0.1054\n",
      "Epoch [56/100], Loss: 0.0296\n",
      "Epoch [57/100], Loss: 0.0509\n",
      "Epoch [58/100], Loss: 0.0317\n",
      "Epoch [59/100], Loss: 0.0290\n",
      "Epoch [60/100], Loss: 0.0170\n",
      "Epoch [61/100], Loss: 0.0536\n",
      "Epoch [62/100], Loss: 0.1596\n",
      "Epoch [63/100], Loss: 0.0362\n",
      "Epoch [64/100], Loss: 0.1523\n",
      "Epoch [65/100], Loss: 0.1320\n",
      "Epoch [66/100], Loss: 0.0632\n",
      "Epoch [67/100], Loss: 0.0906\n",
      "Epoch [68/100], Loss: 0.0631\n",
      "Epoch [69/100], Loss: 0.0508\n",
      "Epoch [70/100], Loss: 0.1009\n",
      "Epoch [71/100], Loss: 0.0396\n",
      "Epoch [72/100], Loss: 0.1138\n",
      "Epoch [73/100], Loss: 0.0226\n",
      "Epoch [74/100], Loss: 0.0455\n",
      "Epoch [75/100], Loss: 0.0642\n",
      "Epoch [76/100], Loss: 0.0379\n",
      "Epoch [77/100], Loss: 0.0899\n",
      "Epoch [78/100], Loss: 0.0253\n",
      "Epoch [79/100], Loss: 0.0549\n",
      "Epoch [80/100], Loss: 0.0207\n",
      "Epoch [81/100], Loss: 0.0635\n",
      "Epoch [82/100], Loss: 0.0294\n",
      "Epoch [83/100], Loss: 0.0689\n",
      "Epoch [84/100], Loss: 0.1448\n",
      "Epoch [85/100], Loss: 0.1085\n",
      "Epoch [86/100], Loss: 0.0170\n",
      "Epoch [87/100], Loss: 0.0862\n",
      "Epoch [88/100], Loss: 0.0311\n",
      "Epoch [89/100], Loss: 0.0573\n",
      "Epoch [90/100], Loss: 0.0258\n",
      "Epoch [91/100], Loss: 0.1401\n",
      "Epoch [92/100], Loss: 0.1243\n",
      "Epoch [93/100], Loss: 0.1682\n",
      "Epoch [94/100], Loss: 0.1051\n",
      "Epoch [95/100], Loss: 0.1540\n",
      "Epoch [96/100], Loss: 0.1379\n",
      "Epoch [97/100], Loss: 0.0675\n",
      "Epoch [98/100], Loss: 0.0752\n",
      "Epoch [99/100], Loss: 0.1058\n",
      "Epoch [100/100], Loss: 0.0935\n"
     ]
    }
   ],
   "source": [
    "import torch\n",
    "import torch.nn as nn\n",
    "import torch.optim as optim\n",
    "import torchvision.transforms as transforms\n",
    "from torchvision import datasets\n",
    "from torch.utils.data import DataLoader\n",
    "import matplotlib.pyplot as plt\n",
    "from torchvision.models import resnet18, resnet50\n",
    "\n",
    "# Define a custom autoencoder network for learning and generating images\n",
    "class ImageAutoencoder(nn.Module):\n",
    "    def __init__(self):\n",
    "        super(ImageAutoencoder, self).__init__()\n",
    "\n",
    "        # Encoder\n",
    "        self.encoder = nn.Sequential(\n",
    "            nn.Conv2d(3, 32, kernel_size=4, stride=2, padding=1),  # Input: 3 channels (RGB), Output: 32 channels\n",
    "            nn.ReLU(),\n",
    "            nn.Conv2d(32, 64, kernel_size=4, stride=2, padding=1),  # Output: 64 channels\n",
    "            nn.ReLU(),\n",
    "        )\n",
    "\n",
    "        # Decoder\n",
    "        self.decoder = nn.Sequential(\n",
    "            nn.ConvTranspose2d(64, 32, kernel_size=4, stride=2, padding=1),  # Input: 64 channels, Output: 32 channels\n",
    "            nn.ReLU(),\n",
    "            nn.ConvTranspose2d(32, 3, kernel_size=4, stride=2, padding=1),  # Input: 32 channels, Output: 3 channels (RGB)\n",
    "            nn.Sigmoid(),  # Output values in the range [0, 1] for image data\n",
    "        )\n",
    "\n",
    "    def forward(self, x):\n",
    "        encoded = self.encoder(x)\n",
    "        decoded = self.decoder(encoded)\n",
    "        return decoded\n",
    "    \n",
    "class DeeperAutoencoder(nn.Module):\n",
    "    def __init__(self):\n",
    "        super(DeeperAutoencoder, self).__init__()\n",
    "\n",
    "        # Pre-trained ResNet-18 encoder\n",
    "        self.encoder = resnet50(pretrained=False)\n",
    "        # Remove the classification layer\n",
    "        self.encoder = nn.Sequential(*list(self.encoder.children())[:-2])\n",
    "\n",
    "        # Decoder\n",
    "        self.decoder = nn.Sequential(\n",
    "        #resnet 50\n",
    "        nn.ConvTranspose2d(2048, 1024, kernel_size=4, stride=2, padding=1, output_padding=0),  # Input: 2048 channels, Output: 1024 channels\n",
    "        nn.ReLU(),\n",
    "        nn.ConvTranspose2d(1024, 512, kernel_size=4, stride=2, padding=1, output_padding=0),  # Output: 512 channels\n",
    "        nn.ReLU(),\n",
    "        nn.ConvTranspose2d(512, 256, kernel_size=4, stride=2, padding=1, output_padding=0),  # Output: 256 channels\n",
    "        nn.ReLU(),\n",
    "        nn.ConvTranspose2d(256, 128, kernel_size=4, stride=2, padding=1, output_padding=0),  # Output: 128 channels\n",
    "        nn.ReLU(),\n",
    "        nn.ConvTranspose2d(128, 3, kernel_size=4, stride=2, padding=1, output_padding=0),  # Output: 3 channels (RGB)\n",
    "        nn.Sigmoid(),  # Output values in the range [0, 1] for image data\n",
    "        #resnet 18\n",
    "#         nn.ConvTranspose2d(512, 256, kernel_size=4, stride=2, padding=1, output_padding=0),  # Input: 512 channels, Output: 256 channels\n",
    "#         nn.ReLU(),\n",
    "#         nn.ConvTranspose2d(256, 128, kernel_size=4, stride=2, padding=1, output_padding=0),  # Output: 128 channels\n",
    "#         nn.ReLU(),\n",
    "#         nn.ConvTranspose2d(128, 64, kernel_size=4, stride=2, padding=1, output_padding=0),  # Output: 64 channels\n",
    "#         nn.ReLU(),\n",
    "#         nn.ConvTranspose2d(64, 32, kernel_size=4, stride=2, padding=1, output_padding=0),  # Output: 3 channels (RGB)\n",
    "#         nn.ReLU(),\n",
    "#         nn.ConvTranspose2d(32, 3, kernel_size=4, stride=2, padding=1, output_padding=0),  # Output: 3 channels (RGB)\n",
    "#         nn.Sigmoid(),  # Output values in the range [0, 1] for image data\n",
    "        )\n",
    "\n",
    "    def forward(self, x):\n",
    "        encoded = self.encoder(x)\n",
    "        decoded = self.decoder(encoded)\n",
    "        return decoded\n",
    "\n",
    "# Load and preprocess your image dataset (e.g., square images)\n",
    "# You can customize the dataset loading part based on your data\n",
    "transform = transforms.Compose([transforms.Resize((224, 224)),\n",
    "                                transforms.ToTensor()])\n",
    "dataset = datasets.ImageFolder(root=\"D:/Perfect Shape Images/Train/\", transform=transform)\n",
    "dataloader = DataLoader(dataset, batch_size=32, shuffle=True)\n",
    "\n",
    "# Initialize the autoencoder\n",
    "autoencoder = DeeperAutoencoder()\n",
    "autoencoder.train()\n",
    "autoencoder.to(\"cuda\")\n",
    "\n",
    "# Define a loss function (e.g., Mean Squared Error)\n",
    "criterion = nn.MSELoss()\n",
    "\n",
    "# Define an optimizer (e.g., Adam)\n",
    "optimizer = optim.Adam(autoencoder.parameters(), lr=0.002)\n",
    "\n",
    "# Training loop\n",
    "num_epochs = 100\n",
    "for epoch in range(num_epochs):\n",
    "    for data in dataloader:\n",
    "        inputs, _ = data\n",
    "        inputs = inputs.to(\"cuda\")\n",
    "\n",
    "        # Zero the gradients\n",
    "        optimizer.zero_grad()\n",
    "\n",
    "        # Forward pass\n",
    "        outputs = autoencoder(inputs)\n",
    "\n",
    "        # Compute the loss\n",
    "        loss = criterion(outputs, inputs)\n",
    "\n",
    "        # Backpropagation\n",
    "        loss.backward()\n",
    "\n",
    "        # Update the weights\n",
    "        optimizer.step()\n",
    "\n",
    "    print(f'Epoch [{epoch + 1}/{num_epochs}], Loss: {loss.item():.4f}')"
   ]
  },
  {
   "cell_type": "code",
   "execution_count": 2,
   "id": "82c2c505",
   "metadata": {},
   "outputs": [
    {
     "data": {
      "text/plain": [
       "torch.Size([8, 3, 224, 224])"
      ]
     },
     "execution_count": 2,
     "metadata": {},
     "output_type": "execute_result"
    }
   ],
   "source": [
    "outputs.shape"
   ]
  },
  {
   "cell_type": "code",
   "execution_count": 3,
   "id": "6a235163",
   "metadata": {},
   "outputs": [
    {
     "data": {
      "text/plain": [
       "torch.Size([8, 3, 224, 224])"
      ]
     },
     "execution_count": 3,
     "metadata": {},
     "output_type": "execute_result"
    }
   ],
   "source": [
    "inputs.shape"
   ]
  },
  {
   "cell_type": "code",
   "execution_count": 4,
   "id": "0d549f6a",
   "metadata": {},
   "outputs": [
    {
     "data": {
      "image/png": "[encoded data removed]",
      "text/plain": [
       "<Figure size 576x288 with 2 Axes>"
      ]
     },
     "metadata": {
      "needs_background": "light"
     },
     "output_type": "display_data"
    }
   ],
   "source": [
    "from PIL import Image\n",
    "\n",
    "# Use the trained autoencoder to generate corrected images\n",
    "test_image =  Image.open(\"D:/Perfect Shape Images/Test/rectangle.JPG\") # Load your test image here (e.g., a rectangle)\n",
    "test_image = transform(test_image).unsqueeze(0)  # Preprocess the test image\n",
    "\n",
    "with torch.no_grad():\n",
    "    corrected_image = autoencoder(test_image.to(\"cuda\"))\n",
    "\n",
    "# Display the original and corrected images\n",
    "plt.figure(figsize=(8, 4))\n",
    "plt.subplot(1, 2, 1)\n",
    "plt.title(\"Original Image\")\n",
    "plt.imshow(test_image.squeeze(0).permute(1, 2, 0))\n",
    "plt.axis('off')\n",
    "\n",
    "plt.subplot(1, 2, 2)\n",
    "plt.title(\"Corrected Image\")\n",
    "plt.imshow(corrected_image.squeeze(0).permute(1, 2, 0).to(\"cpu\"))\n",
    "plt.axis('off')\n",
    "\n",
    "plt.show()"
   ]
  },
  {
   "cell_type": "code",
   "execution_count": 5,
   "id": "db0e0f88",
   "metadata": {},
   "outputs": [
    {
     "data": {
      "image/png": "[encoded data removed]",
      "text/plain": [
       "<Figure size 432x288 with 1 Axes>"
      ]
     },
     "metadata": {
      "needs_background": "light"
     },
     "output_type": "display_data"
    }
   ],
   "source": [
    "with torch.no_grad():\n",
    "    plt.imshow(autoencoder(test_image.to(\"cuda\")).to('cpu').squeeze(0).permute(1, 2, 0))"
   ]
  },
  {
   "cell_type": "code",
   "execution_count": 6,
   "id": "29b39920",
   "metadata": {},
   "outputs": [
    {
     "data": {
      "text/plain": [
       "<matplotlib.image.AxesImage at 0x20d1bfe5d88>"
      ]
     },
     "execution_count": 6,
     "metadata": {},
     "output_type": "execute_result"
    },
    {
     "data": {
      "image/png": "[encoded data removed]",
      "text/plain": [
       "<Figure size 432x288 with 1 Axes>"
      ]
     },
     "metadata": {
      "needs_background": "light"
     },
     "output_type": "display_data"
    }
   ],
   "source": [
    "plt.imshow(test_image.squeeze(0).permute(1, 2, 0))\n"
   ]
  },
  {
   "cell_type": "code",
   "execution_count": null,
   "id": "05aad1c1",
   "metadata": {},
   "outputs": [],
   "source": []
  }
 ],
 "metadata": {
  "kernelspec": {
   "display_name": "Python 3 (ipykernel)",
   "language": "python",
   "name": "python3"
  },
  "language_info": {
   "codemirror_mode": {
    "name": "ipython",
    "version": 3
   },
   "file_extension": ".py",
   "mimetype": "text/x-python",
   "name": "python",
   "nbconvert_exporter": "python",
   "pygments_lexer": "ipython3",
   "version": "3.7.9"
  }
 },
 "nbformat": 4,
 "nbformat_minor": 5
}
