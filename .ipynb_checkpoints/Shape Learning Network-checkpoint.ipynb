{
 "cells": [
  {
   "cell_type": "markdown",
   "id": "aee7bf27",
   "metadata": {},
   "source": [
    "## Constants"
   ]
  },
  {
   "cell_type": "code",
   "execution_count": 1,
   "id": "651bba65",
   "metadata": {},
   "outputs": [],
   "source": [
    "pathToTrainImages = \"D:/Perfect Shape Images/Train/\"\n",
    "pathToTestImages = \"D:/Perfect Shape Images/Test/\""
   ]
  },
  {
   "cell_type": "code",
   "execution_count": 2,
   "id": "ce14cd81",
   "metadata": {},
   "outputs": [],
   "source": [
    "BATCH_SIZE = 4"
   ]
  },
  {
   "cell_type": "markdown",
   "id": "38cdbfdd",
   "metadata": {},
   "source": [
    "## Imports"
   ]
  },
  {
   "cell_type": "code",
   "execution_count": 3,
   "id": "80baecca",
   "metadata": {},
   "outputs": [],
   "source": [
    "import torch\n",
    "import torchvision\n",
    "import numpy as np\n",
    "import matplotlib.pyplot as plt\n",
    "\n",
    "from torch.utils.data import Dataset, DataLoader\n",
    "from torchvision import transforms, utils\n",
    "import torch.nn as nn\n",
    "import torch.nn.functional as F\n",
    "import torch.optim as optim\n",
    "\n",
    "import cv2\n",
    "import os"
   ]
  },
  {
   "cell_type": "markdown",
   "id": "e96424c7",
   "metadata": {},
   "source": [
    "## Create Dataloader"
   ]
  },
  {
   "cell_type": "markdown",
   "id": "ce4120be",
   "metadata": {},
   "source": [
    "### Create Dataloader Class"
   ]
  },
  {
   "cell_type": "code",
   "execution_count": 4,
   "id": "9f85d14e",
   "metadata": {},
   "outputs": [],
   "source": [
    "class ShapeDataset(Dataset):\n",
    "    \"\"\"Shape dataset.\"\"\"\n",
    "\n",
    "    def __init__(self, root_dir, transform=None):\n",
    "        \"\"\"\n",
    "        Args:\n",
    "            root_dir (string): Directory with all the images.\n",
    "            transform (callable, optional): Optional transform to be applied\n",
    "                on a sample. -> Not used\n",
    "        \"\"\"\n",
    "        self.root_dir = root_dir\n",
    "        self.transform = transform\n",
    "\n",
    "    def __len__(self):\n",
    "        return len(os.listdir(self.root_dir))\n",
    "\n",
    "    def __getitem__(self, idx):\n",
    "\n",
    "        img_name = os.path.join(self.root_dir,\n",
    "                                str(idx)+ '.jpg')\n",
    "        image = cv2.imread(img_name)\n",
    "\n",
    "        if self.transform:\n",
    "            image = self.transform(image)\n",
    "\n",
    "        #perfect square should yield strongest activation which will be 1\n",
    "        return image, 1"
   ]
  },
  {
   "cell_type": "markdown",
   "id": "b73dd550",
   "metadata": {},
   "source": [
    "### Set Transforms"
   ]
  },
  {
   "cell_type": "code",
   "execution_count": 5,
   "id": "d1f405ee",
   "metadata": {},
   "outputs": [],
   "source": [
    "transform = transforms.ToTensor()"
   ]
  },
  {
   "cell_type": "markdown",
   "id": "3e15a128",
   "metadata": {},
   "source": [
    "### Create datasets and dataloaders"
   ]
  },
  {
   "cell_type": "code",
   "execution_count": 6,
   "id": "5be2e3a4",
   "metadata": {},
   "outputs": [],
   "source": [
    "trainset = ShapeDataset(pathToTrainImages, transform)\n",
    "testset = ShapeDataset(pathToTrainImages, transform)\n",
    "\n",
    "trainloader = torch.utils.data.DataLoader(trainset, batch_size=BATCH_SIZE, shuffle=True, num_workers=0)\n",
    "testloader = torch.utils.data.DataLoader(testset, batch_size=BATCH_SIZE, shuffle=False, num_workers=0)"
   ]
  },
  {
   "cell_type": "markdown",
   "id": "4e8d9570",
   "metadata": {},
   "source": [
    "## View Sample Images + Test Loaders"
   ]
  },
  {
   "cell_type": "code",
   "execution_count": 7,
   "id": "27d5cba5",
   "metadata": {},
   "outputs": [
    {
     "data": {
      "text/plain": [
       "<matplotlib.image.AxesImage at 0x1c0843fce48>"
      ]
     },
     "execution_count": 7,
     "metadata": {},
     "output_type": "execute_result"
    },
    {
     "data": {
      "image/png": "[encoded data removed]",
      "text/plain": [
       "<Figure size 432x288 with 1 Axes>"
      ]
     },
     "metadata": {
      "needs_background": "light"
     },
     "output_type": "display_data"
    }
   ],
   "source": [
    "import matplotlib.pyplot as plt\n",
    "import numpy as np\n",
    "\n",
    "dataiter = iter(trainloader)\n",
    "images, label = dataiter.next()\n",
    "\n",
    "npimg = np.transpose(images[0], (1, 2, 0))\n",
    "\n",
    "plt.imshow(npimg)"
   ]
  },
  {
   "cell_type": "markdown",
   "id": "3cbde6af",
   "metadata": {},
   "source": [
    "## Create CNN"
   ]
  },
  {
   "cell_type": "markdown",
   "id": "3feeb0fe",
   "metadata": {},
   "source": [
    "### Define Network"
   ]
  },
  {
   "cell_type": "code",
   "execution_count": 8,
   "id": "94edd8f4",
   "metadata": {},
   "outputs": [],
   "source": [
    "class SquareNet(nn.Module):\n",
    "    def __init__(self):\n",
    "        super().__init__()\n",
    "        self.conv1 = nn.Conv2d(3, 20, 5)\n",
    "        self.conv2 = nn.Conv2d(20, 40, 3)\n",
    "        self.conv3 = nn.Conv2d(40, 60, 3)\n",
    "        self.fc1 = nn.Linear(13500, 5000)\n",
    "        self.fc2 = nn.Linear(5000, 1)\n",
    "        self.maxpool1 = nn.MaxPool2d(2)\n",
    "        self.maxpool2 = nn.MaxPool2d(3)    \n",
    "        self.sigmoid = nn.Sigmoid()\n",
    "    \n",
    "\n",
    "    def forward(self, x):\n",
    "        #Next: Add identity mapping that has gradients, freeze it\n",
    "        #Unfreeze the identity layer during testing\n",
    "        x = self.maxpool1(F.relu(self.conv1(x)))\n",
    "        x = self.maxpool1(F.relu(self.conv2(x)))\n",
    "        x = self.maxpool2(F.relu(self.conv3(x)))\n",
    "        x = torch.flatten(x, 1)\n",
    "        x = F.relu(self.fc1(x))\n",
    "        x = self.fc2(x)\n",
    "        return x"
   ]
  },
  {
   "cell_type": "code",
   "execution_count": 9,
   "id": "9c42e2c1",
   "metadata": {},
   "outputs": [
    {
     "data": {
      "text/plain": [
       "SquareNet(\n",
       "  (conv1): Conv2d(3, 20, kernel_size=(5, 5), stride=(1, 1))\n",
       "  (conv2): Conv2d(20, 40, kernel_size=(3, 3), stride=(1, 1))\n",
       "  (conv3): Conv2d(40, 60, kernel_size=(3, 3), stride=(1, 1))\n",
       "  (fc1): Linear(in_features=13500, out_features=5000, bias=True)\n",
       "  (fc2): Linear(in_features=5000, out_features=1, bias=True)\n",
       "  (maxpool1): MaxPool2d(kernel_size=2, stride=2, padding=0, dilation=1, ceil_mode=False)\n",
       "  (maxpool2): MaxPool2d(kernel_size=3, stride=3, padding=0, dilation=1, ceil_mode=False)\n",
       "  (sigmoid): Sigmoid()\n",
       ")"
      ]
     },
     "execution_count": 9,
     "metadata": {},
     "output_type": "execute_result"
    }
   ],
   "source": [
    "net = SquareNet()\n",
    "net.to(\"cuda\")"
   ]
  },
  {
   "cell_type": "markdown",
   "id": "b22ef733",
   "metadata": {},
   "source": [
    "## Define Loss Function and Optimizer"
   ]
  },
  {
   "cell_type": "code",
   "execution_count": 10,
   "id": "af0b8a04",
   "metadata": {},
   "outputs": [],
   "source": [
    "criterion = nn.MSELoss()\n",
    "optimizer = optim.Adam(net.parameters(), lr=0.002)"
   ]
  },
  {
   "cell_type": "code",
   "execution_count": 11,
   "id": "05e5e065",
   "metadata": {},
   "outputs": [
    {
     "name": "stdout",
     "output_type": "stream",
     "text": [
      "[1,     5] loss: 0.040276\n",
      "[1,    10] loss: 0.001284\n",
      "[1,    15] loss: 0.000139\n",
      "[1,    20] loss: 0.000087\n",
      "[1,    25] loss: 0.000050\n",
      "[1,    30] loss: 0.000044\n",
      "[1,    35] loss: 0.000015\n",
      "[1,    40] loss: 0.000007\n",
      "[1,    45] loss: 0.000004\n",
      "[1,    50] loss: 0.000004\n",
      "[2,     5] loss: 0.000004\n",
      "[2,    10] loss: 0.000002\n",
      "[2,    15] loss: 0.000002\n",
      "[2,    20] loss: 0.000003\n",
      "[2,    25] loss: 0.000002\n",
      "[2,    30] loss: 0.000003\n",
      "[2,    35] loss: 0.000001\n",
      "[2,    40] loss: 0.000002\n",
      "[2,    45] loss: 0.000001\n",
      "[2,    50] loss: 0.000000\n",
      "Finished Training\n"
     ]
    }
   ],
   "source": [
    "lossList = []\n",
    "\n",
    "for epoch in range(2):  # loop over the dataset multiple times\n",
    "\n",
    "    running_loss = 0.0\n",
    "    for i, data in enumerate(trainloader, 0):\n",
    "        # get the inputs; data is a list of [inputs, labels]\n",
    "        inputs, labels = data\n",
    "        inputs, labels = inputs.to(\"cuda\"), labels.to(\"cuda\")\n",
    "\n",
    "        # zero the parameter gradients\n",
    "        optimizer.zero_grad()\n",
    "\n",
    "        # forward + backward + optimize\n",
    "        outputs = net(inputs)\n",
    "        \n",
    "        labels = labels[...,None]\n",
    "\n",
    "        loss = criterion(outputs, labels.float())\n",
    "        loss.backward()\n",
    "        optimizer.step()\n",
    "        \n",
    "        lossList.append(loss.item())\n",
    "\n",
    "        # print statistics\n",
    "        running_loss += loss.item()\n",
    "        if i % 5 == 4:    # print every 2000 mini-batches\n",
    "            print(f'[{epoch + 1}, {i + 1:5d}] loss: {running_loss / 2000:.6f}')\n",
    "            running_loss = 0.0\n",
    "\n",
    "print('Finished Training')"
   ]
  },
  {
   "cell_type": "code",
   "execution_count": 12,
   "id": "789d04f8",
   "metadata": {},
   "outputs": [
    {
     "data": {
      "text/plain": [
       "tensor([[[[-1.6459e-05,  0.0000e+00,  9.0490e-11, -5.9080e-07, -7.7087e-07],\n",
       "          [-1.6460e-05,  0.0000e+00, -2.0787e-09, -5.7357e-07, -7.6682e-07],\n",
       "          [-1.6464e-05,  0.0000e+00, -2.3782e-08, -5.8333e-07, -7.6848e-07],\n",
       "          [ 2.7937e-05,  4.1992e-05,  4.1988e-05,  4.1403e-05,  4.2196e-05],\n",
       "          [-2.2722e-05, -3.9279e-06, -3.9535e-06, -3.1369e-06, -3.1451e-06]],\n",
       "\n",
       "         [[-1.6459e-05,  0.0000e+00,  9.0490e-11, -5.9080e-07, -7.7087e-07],\n",
       "          [-1.6460e-05,  0.0000e+00, -2.0787e-09, -5.7357e-07, -7.6682e-07],\n",
       "          [-1.6464e-05,  0.0000e+00, -2.3782e-08, -5.8333e-07, -7.6848e-07],\n",
       "          [ 2.7937e-05,  4.1992e-05,  4.1988e-05,  4.1403e-05,  4.2196e-05],\n",
       "          [-2.2722e-05, -3.9279e-06, -3.9535e-06, -3.1369e-06, -3.1451e-06]],\n",
       "\n",
       "         [[-1.6459e-05,  0.0000e+00,  9.0490e-11, -5.9080e-07, -7.7087e-07],\n",
       "          [-1.6460e-05,  0.0000e+00, -2.0787e-09, -5.7357e-07, -7.6682e-07],\n",
       "          [-1.6464e-05,  0.0000e+00, -2.3782e-08, -5.8333e-07, -7.6848e-07],\n",
       "          [ 2.7937e-05,  4.1992e-05,  4.1988e-05,  4.1403e-05,  4.2196e-05],\n",
       "          [-2.2722e-05, -3.9279e-06, -3.9535e-06, -3.1369e-06, -3.1451e-06]]],\n",
       "\n",
       "\n",
       "        [[[ 2.7580e-05, -9.1379e-06, -1.1671e-05, -6.4854e-06, -8.0656e-06],\n",
       "          [ 3.6727e-05,  0.0000e+00, -5.5808e-06, -3.3449e-07, -1.9336e-06],\n",
       "          [ 3.6715e-05,  0.0000e+00, -5.5184e-06, -3.1650e-07, -1.9520e-06],\n",
       "          [ 3.6715e-05,  0.0000e+00, -5.5399e-06, -3.3205e-07, -1.8945e-06],\n",
       "          [ 3.1947e-05, -4.5485e-06, -1.0042e-05, -1.0062e-05, -9.6087e-06]],\n",
       "\n",
       "         [[ 2.7580e-05, -9.1379e-06, -1.1671e-05, -6.4854e-06, -8.0656e-06],\n",
       "          [ 3.6727e-05,  0.0000e+00, -5.5808e-06, -3.3449e-07, -1.9336e-06],\n",
       "          [ 3.6715e-05,  0.0000e+00, -5.5184e-06, -3.1650e-07, -1.9520e-06],\n",
       "          [ 3.6715e-05,  0.0000e+00, -5.5399e-06, -3.3205e-07, -1.8945e-06],\n",
       "          [ 3.1947e-05, -4.5485e-06, -1.0042e-05, -1.0062e-05, -9.6087e-06]],\n",
       "\n",
       "         [[ 2.7580e-05, -9.1379e-06, -1.1671e-05, -6.4854e-06, -8.0656e-06],\n",
       "          [ 3.6727e-05,  0.0000e+00, -5.5808e-06, -3.3449e-07, -1.9336e-06],\n",
       "          [ 3.6715e-05,  0.0000e+00, -5.5184e-06, -3.1650e-07, -1.9520e-06],\n",
       "          [ 3.6715e-05,  0.0000e+00, -5.5399e-06, -3.3205e-07, -1.8945e-06],\n",
       "          [ 3.1947e-05, -4.5485e-06, -1.0042e-05, -1.0062e-05, -9.6087e-06]]],\n",
       "\n",
       "\n",
       "        [[[-9.2759e-04, -9.4617e-04, -9.5523e-04, -9.4095e-04, -8.6429e-04],\n",
       "          [-9.2904e-04, -9.4287e-04, -9.4919e-04, -9.3627e-04, -8.6197e-04],\n",
       "          [-9.8593e-04, -1.0026e-03, -1.0043e-03, -9.8701e-04, -9.1490e-04],\n",
       "          [-1.0079e-03, -1.0195e-03, -1.0306e-03, -1.0177e-03, -9.5093e-04],\n",
       "          [-9.9645e-04, -1.0088e-03, -1.0229e-03, -1.0102e-03, -9.3924e-04]],\n",
       "\n",
       "         [[-9.2759e-04, -9.4617e-04, -9.5523e-04, -9.4095e-04, -8.6429e-04],\n",
       "          [-9.2904e-04, -9.4287e-04, -9.4919e-04, -9.3627e-04, -8.6197e-04],\n",
       "          [-9.8593e-04, -1.0026e-03, -1.0043e-03, -9.8701e-04, -9.1490e-04],\n",
       "          [-1.0079e-03, -1.0195e-03, -1.0306e-03, -1.0177e-03, -9.5093e-04],\n",
       "          [-9.9645e-04, -1.0088e-03, -1.0229e-03, -1.0102e-03, -9.3924e-04]],\n",
       "\n",
       "         [[-9.2759e-04, -9.4617e-04, -9.5523e-04, -9.4095e-04, -8.6429e-04],\n",
       "          [-9.2904e-04, -9.4287e-04, -9.4919e-04, -9.3627e-04, -8.6197e-04],\n",
       "          [-9.8593e-04, -1.0026e-03, -1.0043e-03, -9.8701e-04, -9.1490e-04],\n",
       "          [-1.0079e-03, -1.0195e-03, -1.0306e-03, -1.0177e-03, -9.5093e-04],\n",
       "          [-9.9645e-04, -1.0088e-03, -1.0229e-03, -1.0102e-03, -9.3924e-04]]],\n",
       "\n",
       "\n",
       "        ...,\n",
       "\n",
       "\n",
       "        [[[-2.9338e-05, -2.9322e-05, -3.1780e-05,  0.0000e+00,  0.0000e+00],\n",
       "          [-2.9338e-05, -2.9338e-05, -3.1780e-05,  0.0000e+00, -3.0194e-09],\n",
       "          [-2.9338e-05, -2.9338e-05, -3.1766e-05, -1.2230e-08, -3.0194e-09],\n",
       "          [-2.9311e-05, -2.9316e-05, -3.1786e-05,  0.0000e+00, -6.9548e-09],\n",
       "          [-8.1574e-05, -8.1574e-05, -8.1557e-05, -4.9464e-05, -4.9484e-05]],\n",
       "\n",
       "         [[-2.9338e-05, -2.9322e-05, -3.1780e-05,  0.0000e+00,  0.0000e+00],\n",
       "          [-2.9338e-05, -2.9338e-05, -3.1780e-05,  0.0000e+00, -3.0194e-09],\n",
       "          [-2.9338e-05, -2.9338e-05, -3.1766e-05, -1.2230e-08, -3.0194e-09],\n",
       "          [-2.9311e-05, -2.9316e-05, -3.1786e-05,  0.0000e+00, -6.9548e-09],\n",
       "          [-8.1574e-05, -8.1574e-05, -8.1557e-05, -4.9464e-05, -4.9484e-05]],\n",
       "\n",
       "         [[-2.9338e-05, -2.9322e-05, -3.1780e-05,  0.0000e+00,  0.0000e+00],\n",
       "          [-2.9338e-05, -2.9338e-05, -3.1780e-05,  0.0000e+00, -3.0194e-09],\n",
       "          [-2.9338e-05, -2.9338e-05, -3.1766e-05, -1.2230e-08, -3.0194e-09],\n",
       "          [-2.9311e-05, -2.9316e-05, -3.1786e-05,  0.0000e+00, -6.9548e-09],\n",
       "          [-8.1574e-05, -8.1574e-05, -8.1557e-05, -4.9464e-05, -4.9484e-05]]],\n",
       "\n",
       "\n",
       "        [[[ 5.3010e-06,  0.0000e+00,  0.0000e+00,  7.5370e-10,  0.0000e+00],\n",
       "          [ 5.3010e-06,  0.0000e+00,  2.1069e-09, -7.5877e-09,  0.0000e+00],\n",
       "          [-1.5653e-06, -6.6649e-06, -6.6378e-06, -6.6543e-06, -6.6304e-06],\n",
       "          [ 5.6768e-06,  5.6768e-06,  5.6768e-06,  5.6768e-06,  5.6768e-06],\n",
       "          [ 5.6874e-06,  5.6603e-06,  5.6768e-06,  5.6529e-06,  5.6768e-06]],\n",
       "\n",
       "         [[ 5.3010e-06,  0.0000e+00,  0.0000e+00,  7.5370e-10,  0.0000e+00],\n",
       "          [ 5.3010e-06,  0.0000e+00,  2.1069e-09, -7.5877e-09,  0.0000e+00],\n",
       "          [-1.5653e-06, -6.6649e-06, -6.6378e-06, -6.6543e-06, -6.6304e-06],\n",
       "          [ 5.6768e-06,  5.6768e-06,  5.6768e-06,  5.6768e-06,  5.6768e-06],\n",
       "          [ 5.6874e-06,  5.6603e-06,  5.6768e-06,  5.6529e-06,  5.6768e-06]],\n",
       "\n",
       "         [[ 5.3010e-06,  0.0000e+00,  0.0000e+00,  7.5370e-10,  0.0000e+00],\n",
       "          [ 5.3010e-06,  0.0000e+00,  2.1069e-09, -7.5877e-09,  0.0000e+00],\n",
       "          [-1.5653e-06, -6.6649e-06, -6.6378e-06, -6.6543e-06, -6.6304e-06],\n",
       "          [ 5.6768e-06,  5.6768e-06,  5.6768e-06,  5.6768e-06,  5.6768e-06],\n",
       "          [ 5.6874e-06,  5.6603e-06,  5.6768e-06,  5.6529e-06,  5.6768e-06]]],\n",
       "\n",
       "\n",
       "        [[[ 1.2361e-04,  5.8922e-05,  5.8865e-05,  2.6766e-05, -5.4679e-06],\n",
       "          [ 1.3147e-04,  6.6810e-05,  6.5995e-05,  3.3915e-05,  1.8217e-06],\n",
       "          [ 1.1487e-04,  3.8285e-05,  3.8999e-05,  6.8617e-06, -2.8352e-05],\n",
       "          [ 1.0218e-04,  3.2164e-05,  3.3661e-05,  1.5555e-06, -3.2314e-05],\n",
       "          [ 1.0221e-04,  3.1848e-05,  3.3455e-05,  2.9691e-06, -3.0864e-05]],\n",
       "\n",
       "         [[ 1.2361e-04,  5.8922e-05,  5.8865e-05,  2.6766e-05, -5.4679e-06],\n",
       "          [ 1.3147e-04,  6.6810e-05,  6.5995e-05,  3.3915e-05,  1.8217e-06],\n",
       "          [ 1.1487e-04,  3.8285e-05,  3.8999e-05,  6.8617e-06, -2.8352e-05],\n",
       "          [ 1.0218e-04,  3.2164e-05,  3.3661e-05,  1.5555e-06, -3.2314e-05],\n",
       "          [ 1.0221e-04,  3.1848e-05,  3.3455e-05,  2.9691e-06, -3.0864e-05]],\n",
       "\n",
       "         [[ 1.2361e-04,  5.8922e-05,  5.8865e-05,  2.6766e-05, -5.4679e-06],\n",
       "          [ 1.3147e-04,  6.6810e-05,  6.5995e-05,  3.3915e-05,  1.8217e-06],\n",
       "          [ 1.1487e-04,  3.8285e-05,  3.8999e-05,  6.8617e-06, -2.8352e-05],\n",
       "          [ 1.0218e-04,  3.2164e-05,  3.3661e-05,  1.5555e-06, -3.2314e-05],\n",
       "          [ 1.0221e-04,  3.1848e-05,  3.3455e-05,  2.9691e-06, -3.0864e-05]]]],\n",
       "       device='cuda:0')"
      ]
     },
     "execution_count": 12,
     "metadata": {},
     "output_type": "execute_result"
    }
   ],
   "source": [
    "net.conv1.weight.grad"
   ]
  },
  {
   "cell_type": "code",
   "execution_count": 13,
   "id": "eafafc96",
   "metadata": {},
   "outputs": [
    {
     "data": {
      "text/plain": [
       "[<matplotlib.lines.Line2D at 0x1c09768eb08>]"
      ]
     },
     "execution_count": 13,
     "metadata": {},
     "output_type": "execute_result"
    },
    {
     "data": {
      "image/png": "[encoded data removed]",
      "text/plain": [
       "<Figure size 432x288 with 1 Axes>"
      ]
     },
     "metadata": {
      "needs_background": "light"
     },
     "output_type": "display_data"
    }
   ],
   "source": [
    "plt.plot(lossList)"
   ]
  },
  {
   "cell_type": "code",
   "execution_count": 14,
   "id": "1c317a04",
   "metadata": {},
   "outputs": [],
   "source": [
    "dataiter = iter(testloader)\n",
    "images, labels = dataiter.next()\n",
    "images, labels = images.to(\"cuda\"), labels.to(\"cuda\")\n",
    "\n",
    "outputs = net(images)"
   ]
  },
  {
   "cell_type": "code",
   "execution_count": 15,
   "id": "37e681bf",
   "metadata": {},
   "outputs": [
    {
     "data": {
      "text/plain": [
       "tensor([[0.9927],\n",
       "        [0.9993],\n",
       "        [0.9990],\n",
       "        [0.9891]], device='cuda:0', grad_fn=<AddmmBackward0>)"
      ]
     },
     "execution_count": 15,
     "metadata": {},
     "output_type": "execute_result"
    }
   ],
   "source": [
    "outputs"
   ]
  },
  {
   "cell_type": "code",
   "execution_count": 16,
   "id": "3a9ff402",
   "metadata": {},
   "outputs": [],
   "source": [
    "rec = torch.Tensor(cv2.imread(pathToTestImages + \"rectangle.jpg\"))\n",
    "rec = rec[...,None]\n",
    "rec = np.transpose(rec, (3, 2, 0, 1))\n",
    "rec = rec.to(\"cuda\")\n",
    "output = net(rec)"
   ]
  },
  {
   "cell_type": "code",
   "execution_count": 17,
   "id": "cc5b1909",
   "metadata": {},
   "outputs": [
    {
     "data": {
      "text/plain": [
       "tensor([[131.5679]], device='cuda:0', grad_fn=<AddmmBackward0>)"
      ]
     },
     "execution_count": 17,
     "metadata": {},
     "output_type": "execute_result"
    }
   ],
   "source": [
    "output"
   ]
  }
 ],
 "metadata": {
  "kernelspec": {
   "display_name": "Python 3 (ipykernel)",
   "language": "python",
   "name": "python3"
  },
  "language_info": {
   "codemirror_mode": {
    "name": "ipython",
    "version": 3
   },
   "file_extension": ".py",
   "mimetype": "text/x-python",
   "name": "python",
   "nbconvert_exporter": "python",
   "pygments_lexer": "ipython3",
   "version": "3.7.9"
  }
 },
 "nbformat": 4,
 "nbformat_minor": 5
}
