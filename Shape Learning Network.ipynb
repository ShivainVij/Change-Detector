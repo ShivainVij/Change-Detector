{
 "cells": [
  {
   "cell_type": "markdown",
   "id": "aee7bf27",
   "metadata": {},
   "source": [
    "## Constants"
   ]
  },
  {
   "cell_type": "code",
   "execution_count": 1,
   "id": "651bba65",
   "metadata": {},
   "outputs": [],
   "source": [
    "pathToTrainImages = \"D:/Perfect Shape Images/Train/\"\n",
    "pathToTestImages = \"D:/Perfect Shape Images/Test/\""
   ]
  },
  {
   "cell_type": "code",
   "execution_count": 2,
   "id": "ce14cd81",
   "metadata": {},
   "outputs": [],
   "source": [
    "BATCH_SIZE = 4"
   ]
  },
  {
   "cell_type": "markdown",
   "id": "38cdbfdd",
   "metadata": {},
   "source": [
    "## Imports"
   ]
  },
  {
   "cell_type": "code",
   "execution_count": 3,
   "id": "80baecca",
   "metadata": {},
   "outputs": [],
   "source": [
    "import torch\n",
    "import torchvision\n",
    "import numpy as np\n",
    "import matplotlib.pyplot as plt\n",
    "\n",
    "from torch.utils.data import Dataset, DataLoader\n",
    "from torchvision import transforms, utils\n",
    "import torch.nn as nn\n",
    "import torch.nn.functional as F\n",
    "import torch.optim as optim\n",
    "\n",
    "import cv2\n",
    "import os"
   ]
  },
  {
   "cell_type": "markdown",
   "id": "e96424c7",
   "metadata": {},
   "source": [
    "## Create Dataloader"
   ]
  },
  {
   "cell_type": "markdown",
   "id": "ce4120be",
   "metadata": {},
   "source": [
    "### Create Dataloader Class"
   ]
  },
  {
   "cell_type": "code",
   "execution_count": 4,
   "id": "9f85d14e",
   "metadata": {},
   "outputs": [],
   "source": [
    "class ShapeDataset(Dataset):\n",
    "    \"\"\"Shape dataset.\"\"\"\n",
    "\n",
    "    def __init__(self, root_dir, transform=None):\n",
    "        \"\"\"\n",
    "        Args:\n",
    "            root_dir (string): Directory with all the images.\n",
    "            transform (callable, optional): Optional transform to be applied\n",
    "                on a sample. -> Not used\n",
    "        \"\"\"\n",
    "        self.root_dir = root_dir\n",
    "        self.transform = transform\n",
    "\n",
    "    def __len__(self):\n",
    "        return len(os.listdir(self.root_dir))\n",
    "\n",
    "    def __getitem__(self, idx):\n",
    "\n",
    "        img_name = os.path.join(self.root_dir,\n",
    "                                str(idx)+ '.jpg')\n",
    "        image = cv2.imread(img_name)\n",
    "\n",
    "        if self.transform:\n",
    "            image = self.transform(image)\n",
    "\n",
    "        #perfect square should yield strongest activation which will be 1\n",
    "        return image, 1"
   ]
  },
  {
   "cell_type": "markdown",
   "id": "b73dd550",
   "metadata": {},
   "source": [
    "### Set Transforms"
   ]
  },
  {
   "cell_type": "code",
   "execution_count": 5,
   "id": "d1f405ee",
   "metadata": {},
   "outputs": [],
   "source": [
    "transform = transforms.ToTensor()"
   ]
  },
  {
   "cell_type": "markdown",
   "id": "3e15a128",
   "metadata": {},
   "source": [
    "### Create datasets and dataloaders"
   ]
  },
  {
   "cell_type": "code",
   "execution_count": 6,
   "id": "5be2e3a4",
   "metadata": {},
   "outputs": [],
   "source": [
    "trainset = ShapeDataset(pathToTrainImages, transform)\n",
    "testset = ShapeDataset(pathToTrainImages, transform)\n",
    "\n",
    "trainloader = torch.utils.data.DataLoader(trainset, batch_size=BATCH_SIZE, shuffle=True, num_workers=0)\n",
    "testloader = torch.utils.data.DataLoader(testset, batch_size=BATCH_SIZE, shuffle=False, num_workers=0)"
   ]
  },
  {
   "cell_type": "markdown",
   "id": "4e8d9570",
   "metadata": {},
   "source": [
    "## View Sample Images + Test Loaders"
   ]
  },
  {
   "cell_type": "code",
   "execution_count": 7,
   "id": "27d5cba5",
   "metadata": {},
   "outputs": [
    {
     "data": {
      "text/plain": [
       "<matplotlib.image.AxesImage at 0x2a063c43a88>"
      ]
     },
     "execution_count": 7,
     "metadata": {},
     "output_type": "execute_result"
    },
    {
     "data": {
      "image/png": "[encoded data removed]",
      "text/plain": [
       "<Figure size 432x288 with 1 Axes>"
      ]
     },
     "metadata": {
      "needs_background": "light"
     },
     "output_type": "display_data"
    }
   ],
   "source": [
    "import matplotlib.pyplot as plt\n",
    "import numpy as np\n",
    "\n",
    "dataiter = iter(trainloader)\n",
    "images, label = dataiter.next()\n",
    "\n",
    "npimg = np.transpose(images[0], (1, 2, 0))\n",
    "\n",
    "plt.imshow(npimg)"
   ]
  },
  {
   "cell_type": "markdown",
   "id": "3cbde6af",
   "metadata": {},
   "source": [
    "## Create CNN"
   ]
  },
  {
   "cell_type": "markdown",
   "id": "3feeb0fe",
   "metadata": {},
   "source": [
    "### Define Network"
   ]
  },
  {
   "cell_type": "code",
   "execution_count": 68,
   "id": "94edd8f4",
   "metadata": {},
   "outputs": [],
   "source": [
    "class SquareNet(nn.Module):\n",
    "    def __init__(self):\n",
    "        super().__init__()\n",
    "        self.conv1 = nn.Conv2d(3, 20, 5)\n",
    "        self.conv2 = nn.Conv2d(20, 40, 3)\n",
    "        self.conv3 = nn.Conv2d(40, 60, 3)\n",
    "        self.fc1 = nn.Linear(13500, 5000)\n",
    "        self.fc2 = nn.Linear(5000, 1)\n",
    "        self.maxpool1 = nn.MaxPool2d(2)\n",
    "        self.maxpool2 = nn.MaxPool2d(3)    \n",
    "        self.sigmoid = nn.Sigmoid()\n",
    "        self.identity = nn.Conv2d(3, 3, 1)\n",
    "        \n",
    "        \n",
    "    \n",
    "\n",
    "    def forward(self, x):\n",
    "        #Next: Add identity mapping that has gradients, freeze it\n",
    "        #Unfreeze the identity layer during testing\n",
    "        x = self.identity(x)\n",
    "        x = self.maxpool1(F.relu(self.conv1(x)))\n",
    "        x = self.maxpool1(F.relu(self.conv2(x)))\n",
    "        x = self.maxpool2(F.relu(self.conv3(x)))\n",
    "        x = torch.flatten(x, 1)\n",
    "        x = F.relu(self.fc1(x))\n",
    "        x = self.fc2(x)\n",
    "        return x"
   ]
  },
  {
   "cell_type": "code",
   "execution_count": 76,
   "id": "9c42e2c1",
   "metadata": {},
   "outputs": [],
   "source": [
    "net = SquareNet()"
   ]
  },
  {
   "cell_type": "code",
   "execution_count": 77,
   "id": "098679e4",
   "metadata": {},
   "outputs": [],
   "source": [
    "net.identity.weight = torch.nn.Parameter(torch.Tensor([[[[ 1]],\n",
    "\n",
    "         [[ 0]],\n",
    "\n",
    "         [[ 0]]],\n",
    "\n",
    "\n",
    "        [[[0]],\n",
    "\n",
    "         [[1]],\n",
    "\n",
    "         [[0]]],\n",
    "\n",
    "\n",
    "        [[[ 0]],\n",
    "\n",
    "         [[ 0]],\n",
    "\n",
    "         [[1]]]]))"
   ]
  },
  {
   "cell_type": "code",
   "execution_count": 78,
   "id": "0b9479c8",
   "metadata": {},
   "outputs": [],
   "source": [
    "net.identity.bias = torch.nn.Parameter(torch.Tensor([0, 0, 0]))"
   ]
  },
  {
   "cell_type": "code",
   "execution_count": 79,
   "id": "ed8666fc",
   "metadata": {},
   "outputs": [],
   "source": [
    "net.identity.weight.requires_grad = False\n",
    "net.identity.bias.requires_grad = False"
   ]
  },
  {
   "cell_type": "code",
   "execution_count": 80,
   "id": "8d6ee6cc",
   "metadata": {},
   "outputs": [
    {
     "data": {
      "text/plain": [
       "SquareNet(\n",
       "  (conv1): Conv2d(3, 20, kernel_size=(5, 5), stride=(1, 1))\n",
       "  (conv2): Conv2d(20, 40, kernel_size=(3, 3), stride=(1, 1))\n",
       "  (conv3): Conv2d(40, 60, kernel_size=(3, 3), stride=(1, 1))\n",
       "  (fc1): Linear(in_features=13500, out_features=5000, bias=True)\n",
       "  (fc2): Linear(in_features=5000, out_features=1, bias=True)\n",
       "  (maxpool1): MaxPool2d(kernel_size=2, stride=2, padding=0, dilation=1, ceil_mode=False)\n",
       "  (maxpool2): MaxPool2d(kernel_size=3, stride=3, padding=0, dilation=1, ceil_mode=False)\n",
       "  (sigmoid): Sigmoid()\n",
       "  (identity): Conv2d(3, 3, kernel_size=(1, 1), stride=(1, 1))\n",
       ")"
      ]
     },
     "execution_count": 80,
     "metadata": {},
     "output_type": "execute_result"
    }
   ],
   "source": [
    "net.to(\"cuda\")"
   ]
  },
  {
   "cell_type": "markdown",
   "id": "b22ef733",
   "metadata": {},
   "source": [
    "## Define Loss Function and Optimizer"
   ]
  },
  {
   "cell_type": "code",
   "execution_count": 81,
   "id": "af0b8a04",
   "metadata": {},
   "outputs": [],
   "source": [
    "criterion = nn.MSELoss()\n",
    "optimizer = optim.Adam(net.parameters(), lr=0.002)"
   ]
  },
  {
   "cell_type": "code",
   "execution_count": 82,
   "id": "05e5e065",
   "metadata": {},
   "outputs": [
    {
     "name": "stdout",
     "output_type": "stream",
     "text": [
      "[1,     5] loss: 0.044293\n",
      "[1,    10] loss: 0.000821\n",
      "[1,    15] loss: 0.000145\n",
      "[1,    20] loss: 0.000037\n",
      "[1,    25] loss: 0.000033\n",
      "[1,    30] loss: 0.000014\n",
      "[1,    35] loss: 0.000008\n",
      "[1,    40] loss: 0.000005\n",
      "[1,    45] loss: 0.000005\n",
      "[1,    50] loss: 0.000006\n",
      "[2,     5] loss: 0.000003\n",
      "[2,    10] loss: 0.000002\n",
      "[2,    15] loss: 0.000003\n",
      "[2,    20] loss: 0.000001\n",
      "[2,    25] loss: 0.000002\n",
      "[2,    30] loss: 0.000001\n",
      "[2,    35] loss: 0.000003\n",
      "[2,    40] loss: 0.000001\n",
      "[2,    45] loss: 0.000001\n",
      "[2,    50] loss: 0.000001\n",
      "Finished Training\n"
     ]
    }
   ],
   "source": [
    "lossList = []\n",
    "\n",
    "for epoch in range(2):  # loop over the dataset multiple times\n",
    "\n",
    "    running_loss = 0.0\n",
    "    for i, data in enumerate(trainloader, 0):\n",
    "        # get the inputs; data is a list of [inputs, labels]\n",
    "        inputs, labels = data\n",
    "        inputs, labels = inputs.to(\"cuda\"), labels.to(\"cuda\")\n",
    "\n",
    "        # zero the parameter gradients\n",
    "        optimizer.zero_grad()\n",
    "\n",
    "        # forward + backward + optimize\n",
    "        outputs = net(inputs)\n",
    "        \n",
    "        labels = labels[...,None]\n",
    "\n",
    "        loss = criterion(outputs, labels.float())\n",
    "        loss.backward()\n",
    "        optimizer.step()\n",
    "        \n",
    "        lossList.append(loss.item())\n",
    "\n",
    "        # print statistics\n",
    "        running_loss += loss.item()\n",
    "        if i % 5 == 4:    # print every 2000 mini-batches\n",
    "            print(f'[{epoch + 1}, {i + 1:5d}] loss: {running_loss / 2000:.6f}')\n",
    "            running_loss = 0.0\n",
    "\n",
    "print('Finished Training')"
   ]
  },
  {
   "cell_type": "code",
   "execution_count": 83,
   "id": "de448e63",
   "metadata": {},
   "outputs": [
    {
     "data": {
      "text/plain": [
       "[<matplotlib.lines.Line2D at 0x2a01bff1ac8>]"
      ]
     },
     "execution_count": 83,
     "metadata": {},
     "output_type": "execute_result"
    },
    {
     "data": {
      "image/png": "[encoded data removed]",
      "text/plain": [
       "<Figure size 432x288 with 1 Axes>"
      ]
     },
     "metadata": {
      "needs_background": "light"
     },
     "output_type": "display_data"
    }
   ],
   "source": [
    "plt.plot(lossList)"
   ]
  },
  {
   "cell_type": "code",
   "execution_count": 84,
   "id": "1c317a04",
   "metadata": {},
   "outputs": [],
   "source": [
    "dataiter = iter(testloader)\n",
    "images, labels = dataiter.next()\n",
    "images, labels = images.to(\"cuda\"), labels.to(\"cuda\")\n",
    "\n",
    "outputs = net(images)"
   ]
  },
  {
   "cell_type": "code",
   "execution_count": 85,
   "id": "37e681bf",
   "metadata": {},
   "outputs": [
    {
     "data": {
      "text/plain": [
       "tensor([[1.0019],\n",
       "        [0.9967],\n",
       "        [0.9942],\n",
       "        [0.9900]], device='cuda:0', grad_fn=<AddmmBackward0>)"
      ]
     },
     "execution_count": 85,
     "metadata": {},
     "output_type": "execute_result"
    }
   ],
   "source": [
    "outputs"
   ]
  },
  {
   "cell_type": "markdown",
   "id": "b915963f",
   "metadata": {},
   "source": [
    "# Freeze rest of network and unfreeze identity layer"
   ]
  },
  {
   "cell_type": "code",
   "execution_count": 93,
   "id": "fa4022e2",
   "metadata": {},
   "outputs": [
    {
     "data": {
      "text/plain": [
       "SquareNet(\n",
       "  (conv1): Conv2d(3, 20, kernel_size=(5, 5), stride=(1, 1))\n",
       "  (conv2): Conv2d(20, 40, kernel_size=(3, 3), stride=(1, 1))\n",
       "  (conv3): Conv2d(40, 60, kernel_size=(3, 3), stride=(1, 1))\n",
       "  (fc1): Linear(in_features=13500, out_features=5000, bias=True)\n",
       "  (fc2): Linear(in_features=5000, out_features=1, bias=True)\n",
       "  (maxpool1): MaxPool2d(kernel_size=2, stride=2, padding=0, dilation=1, ceil_mode=False)\n",
       "  (maxpool2): MaxPool2d(kernel_size=3, stride=3, padding=0, dilation=1, ceil_mode=False)\n",
       "  (sigmoid): Sigmoid()\n",
       "  (identity): Conv2d(3, 3, kernel_size=(1, 1), stride=(1, 1))\n",
       ")"
      ]
     },
     "execution_count": 93,
     "metadata": {},
     "output_type": "execute_result"
    }
   ],
   "source": [
    "for param in net.parameters():\n",
    "    param.requires_grad = False\n",
    "\n",
    "net.identity.weight.requires_grad = True\n",
    "net.identity.bias.require_grad = True\n",
    "\n",
    "net.to(\"cuda\")"
   ]
  },
  {
   "cell_type": "code",
   "execution_count": 94,
   "id": "a3c4d66e",
   "metadata": {},
   "outputs": [],
   "source": [
    "criterion = nn.MSELoss()\n",
    "optimizer = optim.Adam(net.parameters(), lr=0.002)"
   ]
  },
  {
   "cell_type": "code",
   "execution_count": 95,
   "id": "99788bfb",
   "metadata": {},
   "outputs": [],
   "source": [
    "rec = torch.Tensor(cv2.imread(pathToTestImages + \"rectangle.jpg\"))\n",
    "rec = rec[...,None]\n",
    "rec = np.transpose(rec, (3, 2, 0, 1))\n",
    "rec = rec.to(\"cuda\")"
   ]
  },
  {
   "cell_type": "code",
   "execution_count": 96,
   "id": "91932cda",
   "metadata": {},
   "outputs": [
    {
     "data": {
      "text/plain": [
       "tensor([[1.]], device='cuda:0')"
      ]
     },
     "execution_count": 96,
     "metadata": {},
     "output_type": "execute_result"
    }
   ],
   "source": [
    "labels = torch.Tensor([1])\n",
    "labels = labels.to(\"cuda\")\n",
    "labels = labels[...,None]\n",
    "labels"
   ]
  },
  {
   "cell_type": "code",
   "execution_count": 97,
   "id": "f7c9c4a8",
   "metadata": {},
   "outputs": [],
   "source": [
    "optimizer.zero_grad()"
   ]
  },
  {
   "cell_type": "code",
   "execution_count": 98,
   "id": "27162384",
   "metadata": {},
   "outputs": [
    {
     "data": {
      "text/plain": [
       "tensor([[186.8507]], device='cuda:0', grad_fn=<AddmmBackward0>)"
      ]
     },
     "execution_count": 98,
     "metadata": {},
     "output_type": "execute_result"
    }
   ],
   "source": [
    "outputs = net(rec)\n",
    "outputs"
   ]
  },
  {
   "cell_type": "code",
   "execution_count": 99,
   "id": "5bea5dfa",
   "metadata": {},
   "outputs": [],
   "source": [
    "loss = criterion(outputs, labels.float())"
   ]
  },
  {
   "cell_type": "code",
   "execution_count": null,
   "id": "c5cb46ed",
   "metadata": {},
   "outputs": [],
   "source": [
    "loss.backward()"
   ]
  },
  {
   "cell_type": "markdown",
   "id": "db270aba",
   "metadata": {},
   "source": [
    "# Edit original image"
   ]
  },
  {
   "cell_type": "code",
   "execution_count": 101,
   "id": "c2100b02",
   "metadata": {},
   "outputs": [
    {
     "data": {
      "text/plain": [
       "tensor([[[[35922.9023]],\n",
       "\n",
       "         [[35922.9023]],\n",
       "\n",
       "         [[35922.9023]]],\n",
       "\n",
       "\n",
       "        [[[10235.4561]],\n",
       "\n",
       "         [[10235.4551]],\n",
       "\n",
       "         [[10235.4551]]],\n",
       "\n",
       "\n",
       "        [[[23190.0703]],\n",
       "\n",
       "         [[23190.0703]],\n",
       "\n",
       "         [[23190.0703]]]], device='cuda:0')"
      ]
     },
     "execution_count": 101,
     "metadata": {},
     "output_type": "execute_result"
    }
   ],
   "source": [
    "net.identity.weight.grad"
   ]
  },
  {
   "cell_type": "markdown",
   "id": "be490831",
   "metadata": {},
   "source": [
    "## Testing Code"
   ]
  },
  {
   "cell_type": "code",
   "execution_count": 86,
   "id": "3a9ff402",
   "metadata": {},
   "outputs": [],
   "source": [
    "rec = torch.Tensor(cv2.imread(pathToTestImages + \"rectangle.jpg\"))\n",
    "rec = rec[...,None]\n",
    "rec = np.transpose(rec, (3, 2, 0, 1))\n",
    "rec = rec.to(\"cuda\")\n",
    "output = net(rec)"
   ]
  },
  {
   "cell_type": "code",
   "execution_count": 87,
   "id": "cc5b1909",
   "metadata": {},
   "outputs": [
    {
     "data": {
      "text/plain": [
       "tensor([[186.8507]], device='cuda:0', grad_fn=<AddmmBackward0>)"
      ]
     },
     "execution_count": 87,
     "metadata": {},
     "output_type": "execute_result"
    }
   ],
   "source": [
    "output"
   ]
  },
  {
   "cell_type": "code",
   "execution_count": 88,
   "id": "740d6466",
   "metadata": {},
   "outputs": [
    {
     "data": {
      "text/plain": [
       "Conv2d(3, 3, kernel_size=(1, 1), stride=(1, 1))"
      ]
     },
     "execution_count": 88,
     "metadata": {},
     "output_type": "execute_result"
    }
   ],
   "source": [
    "m = net.identity\n",
    "m.to(\"cuda\")"
   ]
  },
  {
   "cell_type": "code",
   "execution_count": 89,
   "id": "f656a93e",
   "metadata": {},
   "outputs": [],
   "source": [
    "test = m(images)"
   ]
  },
  {
   "cell_type": "code",
   "execution_count": 90,
   "id": "044d9e2b",
   "metadata": {},
   "outputs": [
    {
     "data": {
      "text/plain": [
       "<matplotlib.image.AxesImage at 0x2a01c5a0088>"
      ]
     },
     "execution_count": 90,
     "metadata": {},
     "output_type": "execute_result"
    },
    {
     "data": {
      "image/png": "[encoded data removed]",
      "text/plain": [
       "<Figure size 432x288 with 1 Axes>"
      ]
     },
     "metadata": {
      "needs_background": "light"
     },
     "output_type": "display_data"
    }
   ],
   "source": [
    "newImg = test[0].cpu().detach().numpy()\n",
    "bgr = np.transpose(newImg, (1, 2, 0))\n",
    "\n",
    "\n",
    "plt.imshow(bgr)\n"
   ]
  },
  {
   "cell_type": "code",
   "execution_count": 91,
   "id": "f772a683",
   "metadata": {},
   "outputs": [
    {
     "data": {
      "text/plain": [
       "<matplotlib.image.AxesImage at 0x2a01c618e48>"
      ]
     },
     "execution_count": 91,
     "metadata": {},
     "output_type": "execute_result"
    },
    {
     "data": {
      "image/png": "[encoded data removed]",
      "text/plain": [
       "<Figure size 432x288 with 1 Axes>"
      ]
     },
     "metadata": {
      "needs_background": "light"
     },
     "output_type": "display_data"
    }
   ],
   "source": [
    "newImg = images[0].cpu().detach().numpy()\n",
    "bgr = np.transpose(newImg, (1, 2, 0))\n",
    "\n",
    "\n",
    "plt.imshow(bgr)"
   ]
  }
 ],
 "metadata": {
  "kernelspec": {
   "display_name": "Python 3 (ipykernel)",
   "language": "python",
   "name": "python3"
  },
  "language_info": {
   "codemirror_mode": {
    "name": "ipython",
    "version": 3
   },
   "file_extension": ".py",
   "mimetype": "text/x-python",
   "name": "python",
   "nbconvert_exporter": "python",
   "pygments_lexer": "ipython3",
   "version": "3.7.9"
  }
 },
 "nbformat": 4,
 "nbformat_minor": 5
}
