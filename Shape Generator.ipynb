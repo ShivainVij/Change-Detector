{
 "cells": [
  {
   "cell_type": "code",
   "execution_count": 1,
   "id": "7956c485",
   "metadata": {},
   "outputs": [],
   "source": [
    "from PIL import Image, ImageDraw\n",
    "import matplotlib.pyplot as plt\n",
    "import os\n",
    "import random"
   ]
  },
  {
   "cell_type": "code",
   "execution_count": 2,
   "id": "02e85776",
   "metadata": {},
   "outputs": [],
   "source": [
    "imgX = 200\n",
    "imgY = 200\n",
    "buffer = 10"
   ]
  },
  {
   "cell_type": "code",
   "execution_count": 8,
   "id": "737e4070",
   "metadata": {},
   "outputs": [],
   "source": [
    "for i in range(200):\n",
    "    im = Image.new('RGB', (imgX, imgY), (255, 255, 255))\n",
    "    draw = ImageDraw.Draw(im)\n",
    "    \n",
    "    \n",
    "\n",
    "    xStart = random.randint(0, imgX - buffer)\n",
    "    yStart = random.randint(0, imgY - buffer)\n",
    "    \n",
    "    squareLen = random.randint(buffer, min(imgY-yStart, imgX-xStart))\n",
    "\n",
    "    xEnd = xStart + squareLen\n",
    "    yEnd = yStart + squareLen\n",
    "\n",
    "    draw.rectangle((xStart, yStart, xEnd, yEnd), fill=(0, 0, 0), outline=(0, 0, 0))\n",
    "    \n",
    "    im.save('D:Perfect Shape Images/Train/' + str(i)  + '.jpg', quality=100)"
   ]
  },
  {
   "cell_type": "code",
   "execution_count": 4,
   "id": "e81c90e3",
   "metadata": {},
   "outputs": [],
   "source": [
    "im = Image.new('RGB', (imgX, imgY), (255, 255, 255))\n",
    "draw = ImageDraw.Draw(im)\n",
    "\n",
    "xStart = 100\n",
    "yStart = 100\n",
    "\n",
    "xEnd = 200\n",
    "yEnd = 150\n",
    "\n",
    "draw.rectangle((xStart, yStart, xEnd, yEnd), fill=(0, 0, 0), outline=(0, 0, 0))\n",
    "\n",
    "im.save('D:Perfect Shape Images/Test/rectangle.jpg', quality=100)"
   ]
  }
 ],
 "metadata": {
  "kernelspec": {
   "display_name": "Python 3 (ipykernel)",
   "language": "python",
   "name": "python3"
  },
  "language_info": {
   "codemirror_mode": {
    "name": "ipython",
    "version": 3
   },
   "file_extension": ".py",
   "mimetype": "text/x-python",
   "name": "python",
   "nbconvert_exporter": "python",
   "pygments_lexer": "ipython3",
   "version": "3.7.9"
  }
 },
 "nbformat": 4,
 "nbformat_minor": 5
}
