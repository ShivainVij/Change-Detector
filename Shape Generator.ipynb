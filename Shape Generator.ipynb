{
 "cells": [
  {
   "cell_type": "code",
   "execution_count": 32,
   "id": "7956c485",
   "metadata": {},
   "outputs": [],
   "source": [
    "from PIL import Image, ImageDraw\n",
    "import matplotlib.pyplot as plt\n",
    "import os\n",
    "import random"
   ]
  },
  {
   "cell_type": "code",
   "execution_count": 44,
   "id": "02e85776",
   "metadata": {},
   "outputs": [],
   "source": [
    "imgX = 200\n",
    "imgY = 200\n",
    "squareLen = 40"
   ]
  },
  {
   "cell_type": "code",
   "execution_count": 46,
   "id": "737e4070",
   "metadata": {},
   "outputs": [],
   "source": [
    "for i in range(100):\n",
    "    im = Image.new('RGB', (imgX, imgY), (255, 255, 255))\n",
    "    draw = ImageDraw.Draw(im)\n",
    "\n",
    "    xStart = random.randint(0, imgX - squareLen)\n",
    "    yStart = random.randint(0, imgY - squareLen)\n",
    "\n",
    "    xEnd = xStart + squareLen\n",
    "    yEnd = yStart + squareLen\n",
    "\n",
    "    draw.rectangle((xStart, yStart, xEnd, yEnd), fill=(0, 0, 0), outline=(0, 0, 0))\n",
    "    \n",
    "    im.save('D:Perfect Shape Images/' + str(i)  + '.jpg', quality=100)"
   ]
  }
 ],
 "metadata": {
  "kernelspec": {
   "display_name": "Python 3 (ipykernel)",
   "language": "python",
   "name": "python3"
  },
  "language_info": {
   "codemirror_mode": {
    "name": "ipython",
    "version": 3
   },
   "file_extension": ".py",
   "mimetype": "text/x-python",
   "name": "python",
   "nbconvert_exporter": "python",
   "pygments_lexer": "ipython3",
   "version": "3.7.9"
  }
 },
 "nbformat": 4,
 "nbformat_minor": 5
}
